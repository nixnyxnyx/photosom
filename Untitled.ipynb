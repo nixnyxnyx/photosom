{
 "cells": [
  {
   "cell_type": "code",
   "execution_count": 1,
   "metadata": {},
   "outputs": [],
   "source": [
    "import photosom as ps\n",
    "import numpy as np\n",
    "\n",
    "# Load data from .dat file\n",
    "train_raw = np.loadtxt('datasets/train_data.dat') #training region\n",
    "test_raw = np.loadtxt('datasets/cv_data.dat') #sample region\n",
    "\n",
    "# u g r i z y\n",
    "train = np.column_stack((train_raw[:,1], train_raw[:,4], train_raw[:,6], train_raw[:,8],\n",
    "                         train_raw[:,10], train_raw[:,12], train_raw[:,14]))\n",
    "test = np.column_stack((test_raw[:,1], test_raw[:,4], test_raw[:,6], test_raw[:,8],\n",
    "                        test_raw[:,10], test_raw[:,12], test_raw[:,14]))"
   ]
  },
  {
   "cell_type": "code",
   "execution_count": 2,
   "metadata": {},
   "outputs": [
    {
     "name": "stdout",
     "output_type": "stream",
     "text": [
      "(48430, 7) (9440, 7)\n"
     ]
    }
   ],
   "source": [
    "pz = ps.PhotoSOM(train, test, random_seed=338042)"
   ]
  },
  {
   "cell_type": "code",
   "execution_count": 9,
   "metadata": {},
   "outputs": [
    {
     "name": "stdout",
     "output_type": "stream",
     "text": [
      "There are 43108 training galaxies selected\n",
      "There are 30241 training galaxies selected\n"
     ]
    }
   ],
   "source": [
    "z_cutoff_range = [0, 1.0]      # [0, 3.1]    for complete data\n",
    "mag_cutoff_range = [14, 25.5]  # [14, 25.5]  for complete data\n",
    "percentile_cut = 0.0           # 0.0         for complete data\n",
    "n_bins = 100\n",
    "\n",
    "pz.selectionFunction(n_bins, percentile_cut)\n",
    "pz.assignRange(z_cutoff_range, mag_cutoff_range)"
   ]
  },
  {
   "cell_type": "code",
   "execution_count": null,
   "metadata": {},
   "outputs": [],
   "source": []
  }
 ],
 "metadata": {
  "kernelspec": {
   "display_name": "Python 3",
   "language": "python",
   "name": "python3"
  },
  "language_info": {
   "codemirror_mode": {
    "name": "ipython",
    "version": 3
   },
   "file_extension": ".py",
   "mimetype": "text/x-python",
   "name": "python",
   "nbconvert_exporter": "python",
   "pygments_lexer": "ipython3",
   "version": "3.7.6"
  }
 },
 "nbformat": 4,
 "nbformat_minor": 4
}
